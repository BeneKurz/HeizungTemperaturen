{
 "cells": [
  {
   "cell_type": "code",
   "execution_count": 3,
   "metadata": {},
   "outputs": [
    {
     "name": "stdout",
     "output_type": "stream",
     "text": [
      "curl 192.168.202.41/grafana/Temperaturen.db -o Temperaturen.db\n",
      "OK\n"
     ]
    }
   ],
   "source": [
    "import os, shutil\n",
    "import numpy as np\n",
    "import pandas as pd\n",
    "\n",
    "DB_FILENAME = 'Temperaturen.db'\n",
    "\n",
    "DB_UNC_PATH='//192.168.202.41/grafana/'\n",
    "\n",
    "# https://stackoverflow.com/questions/123198/how-to-copy-files\n",
    "def copy_file1():\n",
    "    full_filename= DB_UNC_PATH + DB_FILENAME\n",
    "    try:\n",
    "        print('Hole Daten ' + full_filename + '  mit shutil.copyfile ... ', end = '')\n",
    "        shutil.copyfile(full_filename, './' + DB_FILENAME)        \n",
    "        print('OK')\n",
    "    except:\n",
    "        print('Error')\n",
    "\n",
    "def copy_file2():\n",
    "    full_filename= DB_UNC_PATH + DB_FILENAME\n",
    "    print('Hole Daten ' + full_filename + '  mit shutil.copy2 ... ', end = '')\n",
    "    try:\n",
    "        shutil.copy2(full_filename, '.')        \n",
    "        print('OK')\n",
    "    except:\n",
    "        print('Error')\n",
    "    \n",
    "\n",
    "def copy_file3():\n",
    "    full_filename= DB_UNC_PATH + DB_FILENAME\n",
    "    print('Hole Daten ' + full_filename + '  mit os.system ... ', end = '')\n",
    "    try:\n",
    "        os.system('cp ' + full_filename + ' .')        \n",
    "        print('OK')\n",
    "    except:\n",
    "        print('Error')\n",
    "    \n",
    "\n",
    "def copy_file4():\n",
    "    cmd_line=\"scp root@192.168.202.41:/var/lib/grafana/\" + DB_FILENAME + ' .'\n",
    "    print(cmd_line)\n",
    "    try:\n",
    "        os.system(cmd_line)\n",
    "        print('OK')\n",
    "    except:\n",
    "        print('Error')\n",
    "    \n",
    "def copy_file5():\n",
    "    cmd_line=\"wget 192.168.202.41/grafana/\" + DB_FILENAME + ' .'\n",
    "    print(cmd_line)\n",
    "    try:\n",
    "        os.system(cmd_line)\n",
    "        print('OK')\n",
    "    except:\n",
    "        print('Error')\n",
    "\n",
    "def copy_file6():\n",
    "    cmd_line='curl 192.168.202.41/grafana/' + DB_FILENAME + ' -o ' + DB_FILENAME\n",
    "    print(cmd_line)\n",
    "    try:\n",
    "        os.system(cmd_line)\n",
    "        print('OK')\n",
    "    except:\n",
    "        print('Error')\n",
    "\n",
    "\n",
    "#copy_file1()\n",
    "#copy_file2()\n",
    "copy_file6()\n",
    "#copy_file4()"
   ]
  },
  {
   "cell_type": "code",
   "execution_count": null,
   "metadata": {},
   "outputs": [],
   "source": []
  }
 ],
 "metadata": {
  "kernelspec": {
   "display_name": "Python 3 (ipykernel)",
   "language": "python",
   "name": "python3"
  },
  "language_info": {
   "codemirror_mode": {
    "name": "ipython",
    "version": 3
   },
   "file_extension": ".py",
   "mimetype": "text/x-python",
   "name": "python",
   "nbconvert_exporter": "python",
   "pygments_lexer": "ipython3",
   "version": "3.11.5"
  }
 },
 "nbformat": 4,
 "nbformat_minor": 2
}
