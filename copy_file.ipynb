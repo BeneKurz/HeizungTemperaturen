{
 "cells": [
  {
   "cell_type": "code",
   "execution_count": 4,
   "metadata": {},
   "outputs": [
    {
     "name": "stdout",
     "output_type": "stream",
     "text": [
      "Hole Daten //192.168.202.41/grafana/Temperaturen.db  ...Feddisch\n"
     ]
    }
   ],
   "source": [
    "import os, shutil\n",
    "import numpy as np\n",
    "import pandas as pd\n",
    "\n",
    "DB_FILENAME = 'Temperaturen.db'\n",
    "DB_UNC_PATH='//192.168.202.41/grafana/'\n",
    "\n",
    "def copy_file1():\n",
    "    full_filename= DB_UNC_PATH + DB_FILENAME\n",
    "    print('Hole Daten ' + full_filename + '  ...', end = '')\n",
    "    shutil.copyfile(full_filename, './' + DB_FILENAME)        \n",
    "    print('Feddisch')\n",
    "    \n",
    "copy_file1()"
   ]
  },
  {
   "cell_type": "code",
   "execution_count": null,
   "metadata": {},
   "outputs": [],
   "source": []
  }
 ],
 "metadata": {
  "kernelspec": {
   "display_name": "Python 3 (ipykernel)",
   "language": "python",
   "name": "python3"
  },
  "language_info": {
   "codemirror_mode": {
    "name": "ipython",
    "version": 3
   },
   "file_extension": ".py",
   "mimetype": "text/x-python",
   "name": "python",
   "nbconvert_exporter": "python",
   "pygments_lexer": "ipython3",
   "version": "3.11.5"
  }
 },
 "nbformat": 4,
 "nbformat_minor": 2
}
