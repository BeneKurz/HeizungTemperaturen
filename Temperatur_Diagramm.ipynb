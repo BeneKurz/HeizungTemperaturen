{
 "cells": [
  {
   "cell_type": "markdown",
   "id": "3fed5699-adcc-4021-a834-9a8bbb04bd9e",
   "metadata": {},
   "source": [
    "Anzeige der Temperaturdaten aus der Heizung"
   ]
  },
  {
   "cell_type": "code",
   "execution_count": 97,
   "id": "af59adeb-c90a-472a-a897-68567526aafb",
   "metadata": {},
   "outputs": [],
   "source": [
    "import sqlite3\n",
    "import numpy as np\n",
    "import pandas as pd\n",
    "import os, sys\n",
    "import ipywidgets as widgets\n",
    "import matplotlib.pyplot as pl\n",
    "DB_FILENAME = 'Temperaturen.db'\n",
    "\n",
    "\n",
    "def get_df(db_filename):\n",
    "    db_file = db_filename\n",
    "    \n",
    "    if os.path.exists(os.path.join('/var/lib/grafana', db_filename)):\n",
    "        db_file = os.path.join('/var/lib/grafana', db_filename)\n",
    "    elif os.path.exists(os.path.join('.', db_filename)):\n",
    "        db_file = os.path.join('.', db_filename)    \n",
    "    else:\n",
    "        raise SystemExit('Die Datenbank ' + db_file + ' ist nicht vorhanden')\n",
    "        \n",
    "    try:\n",
    "        con = sqlite3.connect(db_file)\n",
    "        df = pd.read_sql_query(\"SELECT * from Temperaturen\", con)\n",
    "    except:\n",
    "        raise SystemExit('Die Datenbank ' + db_file + ' ist nicht vorhanden')\n",
    "    # Blanks mit np.nan ersetzen\n",
    "    return df.replace(r'^\\s*$', np.nan, regex=True)\n",
    "        \n",
    "\n"
   ]
  },
  {
   "cell_type": "code",
   "execution_count": 108,
   "id": "9c8dcf2c-9db8-45b6-a1f0-128fcd99a900",
   "metadata": {},
   "outputs": [
    {
     "data": {
      "application/vnd.jupyter.widget-view+json": {
       "model_id": "8565e7b3cc9b4a85bebb261b10595035",
       "version_major": 2,
       "version_minor": 0
      },
      "text/plain": [
       "interactive(children=(Select(description='Startdatum:', options=('2023-10-17', '2023-10-16', '2023-05-19', '20…"
      ]
     },
     "metadata": {},
     "output_type": "display_data"
    },
    {
     "data": {
      "text/plain": [
       "<function __main__.plot_temp(start, dauer)>"
      ]
     },
     "execution_count": 108,
     "metadata": {},
     "output_type": "execute_result"
    }
   ],
   "source": [
    "def plot_temp(start, dauer):\n",
    "\n",
    "    subset = df.tail(2000)\n",
    "    subset = df[df['UnixTime'] > start ]\n",
    "    #data.info()\n",
    "    # UnixTime \tAussenTemp \tVorlaufTemp \tRuecklaufTemp \tWohnzimmerTemp\n",
    "    subset.plot(x=\"UnixTime\", y=[\"VorlaufTemp\", \"RuecklaufTemp\", \"WohnzimmerTemp\", \"AussenTemp\"])\n",
    "    #data    \n",
    "\n",
    "\n",
    "# main\n",
    "try:    \n",
    "    df= get_df(DB_FILENAME)\n",
    "except SystemExit as _e:\n",
    "    print(_e)\n",
    "    sys.exit(-1)\n",
    "    \n",
    "df['UnixTime'] = pd.to_datetime(df['UnixTime'], unit='s')\n",
    "\n",
    "\n",
    "dates_us = df.UnixTime.dt.strftime('%Y-%m-%d').unique()\n",
    "\n",
    "\n",
    "df.set_index(['UnixTime'])\n",
    "df['Aussen'] = str(df['AussenTemp'])\n",
    "df['Wohnzimmer'] = str(df['WohnzimmerTemp'])\n",
    "\n",
    "widget_dauer = widgets.IntSlider(start=1,end=100,step=1, description=\"Dauer\")\n",
    "widget_start = widgets.Select(\n",
    "    options=np.sort(dates_us)[::-1],\n",
    "    rows=1,\n",
    "    description='Startdatum:',\n",
    "    disabled=False\n",
    ")\n",
    "\n",
    "widgets.interact(plot_temp, start= widget_start, dauer = widget_dauer)"
   ]
  },
  {
   "cell_type": "code",
   "execution_count": null,
   "id": "bf7aad14-a0d7-42c2-884e-508b8bc71d63",
   "metadata": {},
   "outputs": [],
   "source": []
  }
 ],
 "metadata": {
  "kernelspec": {
   "display_name": "Python 3 (ipykernel)",
   "language": "python",
   "name": "python3"
  },
  "language_info": {
   "codemirror_mode": {
    "name": "ipython",
    "version": 3
   },
   "file_extension": ".py",
   "mimetype": "text/x-python",
   "name": "python",
   "nbconvert_exporter": "python",
   "pygments_lexer": "ipython3",
   "version": "3.11.5"
  }
 },
 "nbformat": 4,
 "nbformat_minor": 5
}
