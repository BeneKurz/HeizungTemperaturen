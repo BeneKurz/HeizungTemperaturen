{
 "cells": [
  {
   "cell_type": "markdown",
   "id": "3fed5699-adcc-4021-a834-9a8bbb04bd9e",
   "metadata": {},
   "source": [
    "Anzeige der Temperaturdaten aus der Heizung"
   ]
  },
  {
   "cell_type": "code",
   "execution_count": 22,
   "id": "af59adeb-c90a-472a-a897-68567526aafb",
   "metadata": {},
   "outputs": [
    {
     "data": {
      "application/vnd.jupyter.widget-view+json": {
       "model_id": "b476020f74844893b88721109ae079e0",
       "version_major": 2,
       "version_minor": 0
      },
      "text/plain": [
       "interactive(children=(IntSlider(value=1, description='start', max=3, min=-1), IntSlider(value=50, description=…"
      ]
     },
     "metadata": {},
     "output_type": "display_data"
    },
    {
     "data": {
      "text/plain": [
       "<function __main__.plot_temp(start, dauer, kurven)>"
      ]
     },
     "execution_count": 22,
     "metadata": {},
     "output_type": "execute_result"
    }
   ],
   "source": [
    "import sqlite3\n",
    "import os, sys\n",
    "import ipywidgets\n",
    "import pandas as pd\n",
    "import matplotlib.pyplot as plt\n",
    "db_filename = 'Temperaturen.db'\n",
    "\n",
    "\n",
    "def get_df(db_filename):\n",
    "    db_file = db_filename\n",
    "    if os.path.exists(os.path.join('/var/lib/grafana', db_filename)):\n",
    "        db_file = ps.path.join('/var/lib/grafana', db_filename)\n",
    "    \n",
    "    try:\n",
    "        con = sqlite3.connect(db_file)\n",
    "        df = pd.read_sql_query(\"SELECT * from Temperaturen\", con)\n",
    "    except:\n",
    "        print('Die Datenbank ' + db_file + ' ist nicht vorhanden')\n",
    "        raise SystemExit(\"Stop right there!\")\n",
    "    return df\n",
    "    \n",
    "\n",
    "    \n",
    "def plot_temp(start, dauer, kurven):\n",
    "\n",
    "    data = df.tail(200)\n",
    "    #data.info()\n",
    "    # UnixTime \tAussenTemp \tVorlaufTemp \tRuecklaufTemp \tWohnzimmerTemp\n",
    "    data.plot(x=\"UnixTime\", y=kurven)\n",
    "    #data    \n",
    "\n",
    "# main\n",
    "try:    \n",
    "    df= get_df(db_filename)\n",
    "except SystemExit as _e:\n",
    "    print(_e)\n",
    "    sys.exit(-1)\n",
    "    \n",
    "df['UnixTime'] = pd.to_datetime(df['UnixTime'], unit='s')\n",
    "df.set_index(['UnixTime'])\n",
    "df['Aussen'] = str(df['AussenTemp'])\n",
    "df['Wohnzimmer'] = str(df['WohnzimmerTemp'])\n",
    "\n",
    "ipywidgets.interact(plot_temp, start= 1 , dauer = (1,100,1), kurven=[\"VorlaufTemp\", \"RuecklaufTemp\", \"WohnzimmerTemp\", \"AussenTemp\"])"
   ]
  },
  {
   "cell_type": "code",
   "execution_count": null,
   "id": "9c8dcf2c-9db8-45b6-a1f0-128fcd99a900",
   "metadata": {},
   "outputs": [],
   "source": []
  }
 ],
 "metadata": {
  "kernelspec": {
   "display_name": "Python 3 (ipykernel)",
   "language": "python",
   "name": "python3"
  },
  "language_info": {
   "codemirror_mode": {
    "name": "ipython",
    "version": 3
   },
   "file_extension": ".py",
   "mimetype": "text/x-python",
   "name": "python",
   "nbconvert_exporter": "python",
   "pygments_lexer": "ipython3",
   "version": "3.11.5"
  }
 },
 "nbformat": 4,
 "nbformat_minor": 5
}
