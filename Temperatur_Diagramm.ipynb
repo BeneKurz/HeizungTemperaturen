{
 "cells": [
  {
   "cell_type": "markdown",
   "id": "3fed5699-adcc-4021-a834-9a8bbb04bd9e",
   "metadata": {},
   "source": [
    "Anzeige der Temperaturdaten aus der Heizung"
   ]
  },
  {
   "cell_type": "code",
   "execution_count": 88,
   "id": "af59adeb-c90a-472a-a897-68567526aafb",
   "metadata": {},
   "outputs": [],
   "source": [
    "import sqlite3\n",
    "import numpy as np\n",
    "import pandas as pd\n",
    "import os, sys\n",
    "import ipywidgets as widgets\n",
    "import matplotlib.pyplot as pl\n",
    "DB_FILENAME = 'Temperaturen.db'\n",
    "\n",
    "\n",
    "def get_df(db_filename):\n",
    "    db_file = db_filename\n",
    "    \n",
    "    if os.path.exists(os.path.join('/var/lib/grafana', db_filename)):\n",
    "        db_file = os.path.join('/var/lib/grafana', db_filename)\n",
    "    elif os.path.exists(os.path.join('.', db_filename)):\n",
    "        db_file = os.path.join('.', db_filename)    \n",
    "    else:\n",
    "        raise SystemExit(\"Stop right there!\")\n",
    "    \n",
    "    try:\n",
    "        con = sqlite3.connect(db_file)\n",
    "        df = pd.read_sql_query(\"SELECT * from Temperaturen\", con)\n",
    "    except:\n",
    "        print('Die Datenbank ' + db_file + ' ist nicht vorhanden')\n",
    "        raise SystemExit(\"Stop right there!\")\n",
    "    # Blanks mit np.nan ersetzen\n",
    "    return df.replace(r'^\\s*$', np.nan, regex=True)\n",
    "    \n",
    "\n",
    "    \n",
    "def plot_temp(start, dauer, dummy=False):\n",
    "\n",
    "    data = df.tail(2000)\n",
    "    #data.info()\n",
    "    # UnixTime \tAussenTemp \tVorlaufTemp \tRuecklaufTemp \tWohnzimmerTemp\n",
    "    data.plot(x=\"UnixTime\", y=[\"VorlaufTemp\", \"RuecklaufTemp\", \"WohnzimmerTemp\", \"AussenTemp\"])\n",
    "    #data    \n",
    "\n"
   ]
  },
  {
   "cell_type": "code",
   "execution_count": null,
   "id": "9c8dcf2c-9db8-45b6-a1f0-128fcd99a900",
   "metadata": {},
   "outputs": [],
   "source": [
    "# main\n",
    "try:    \n",
    "    df= get_df(DB_FILENAME)\n",
    "except SystemExit as _e:\n",
    "    print(_e)\n",
    "    sys.exit(-1)\n",
    "    \n",
    "df['UnixTime'] = pd.to_datetime(df['UnixTime'], unit='s')\n",
    "\n",
    "\n",
    "dates_us = df.UnixTime.dt.strftime('%Y-%m-%d').unique()\n",
    "\n",
    "df.set_index(['UnixTime'])\n",
    "df['Aussen'] = str(df['AussenTemp'])\n",
    "df['Wohnzimmer'] = str(df['WohnzimmerTemp'])\n",
    "\n",
    "slider_dauer = widgets.IntSlider(start=1,end=100,step=1, description=\"Dauer\")\n",
    "\n",
    "widgets.interact(plot_temp, start= dates_us , dauer = slider_dauer)"
   ]
  }
 ],
 "metadata": {
  "kernelspec": {
   "display_name": "Python 3 (ipykernel)",
   "language": "python",
   "name": "python3"
  },
  "language_info": {
   "codemirror_mode": {
    "name": "ipython",
    "version": 3
   },
   "file_extension": ".py",
   "mimetype": "text/x-python",
   "name": "python",
   "nbconvert_exporter": "python",
   "pygments_lexer": "ipython3",
   "version": "3.11.5"
  }
 },
 "nbformat": 4,
 "nbformat_minor": 5
}
