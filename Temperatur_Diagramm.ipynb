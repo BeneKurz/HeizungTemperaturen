{
 "cells": [
  {
   "cell_type": "markdown",
   "id": "3fed5699-adcc-4021-a834-9a8bbb04bd9e",
   "metadata": {},
   "source": [
    "# Anzeige der Temperaturdaten aus der Heizung aus Temperaturen.db"
   ]
  },
  {
   "cell_type": "code",
   "execution_count": 1,
   "id": "b846ee9b-0a0c-4bbc-be9a-b9ffe34b483d",
   "metadata": {},
   "outputs": [
    {
     "name": "stdout",
     "output_type": "stream",
     "text": [
      "Die Temperaturdaten sind aktuell: 2023-10-20 16:16:55.547142\n"
     ]
    },
    {
     "data": {
      "application/vnd.jupyter.widget-view+json": {
       "model_id": "5dca1fca8ebd4b3f9e7423fbebb67f96",
       "version_major": 2,
       "version_minor": 0
      },
      "text/plain": [
       "Button(description='Temperaturdaten holen', layout=Layout(width='200px'), style=ButtonStyle(button_color='#90e…"
      ]
     },
     "metadata": {},
     "output_type": "display_data"
    },
    {
     "data": {
      "application/vnd.jupyter.widget-view+json": {
       "model_id": "5999a856adb7419caa5462780b3775db",
       "version_major": 2,
       "version_minor": 0
      },
      "text/plain": [
       "Output()"
      ]
     },
     "metadata": {},
     "output_type": "display_data"
    }
   ],
   "source": [
    "import os, sys\n",
    "import paramiko\n",
    "import ipywidgets as widgets\n",
    "import datetime, time\n",
    "import sqlite3\n",
    "import numpy as np\n",
    "import warnings\n",
    "warnings.simplefilter(action='ignore', category=FutureWarning)\n",
    "import pandas as pd\n",
    "pd.options.plotting.backend = \"plotly\"\n",
    "pd.options.mode.chained_assignment = None \n",
    "\n",
    "#import matplotlib.pyplot as pl\n",
    "\n",
    "from scp import SCPClient\n",
    "DB_FILENAME = 'Temperaturen.db'\n",
    "def createSSHClient(server, port, user, password):\n",
    "    client = paramiko.SSHClient()\n",
    "    client.load_system_host_keys()\n",
    "    client.set_missing_host_key_policy(paramiko.AutoAddPolicy())\n",
    "    client.connect(server, port, user, password)\n",
    "    return client\n",
    "    \n",
    "def get_db_file():\n",
    "    print('Hole Daten ...', end = '')\n",
    "    ssh = createSSHClient(\"192.168.202.41\", 22, \"root\", \"sni\")\n",
    "    scp = SCPClient(ssh.get_transport())\n",
    "    scp.get('/var/lib/grafana/' + DB_FILENAME)\n",
    "    print('Feddisch')\n",
    "\n",
    "AGE_DIFF_SECONDS = 60*60*24\n",
    "\n",
    "\n",
    "def show_temperatur_file_status(db_filename, agediff):\n",
    "    st=os.stat(db_filename)    \n",
    "    mtime=st.st_mtime\n",
    "    if time.time() - os.path.getmtime(db_filename) > agediff:\n",
    "        button.style.button_color = '#FF0000'\n",
    "        print('Die Temperaturdaten sind veraltet: ' + format(datetime.datetime.fromtimestamp(mtime)) )\n",
    "    else:\n",
    "        button.style.button_color = '#90ee90'\n",
    "        print('Die Temperaturdaten sind aktuell: ' + format(datetime.datetime.fromtimestamp(mtime)) )\n",
    "\n",
    "layout_btn = widgets.Layout(width='200px')\n",
    "button = widgets.Button(description=\"Temperaturdaten holen\", layout=layout_btn)\n",
    "show_temperatur_file_status(DB_FILENAME, AGE_DIFF_SECONDS)\n",
    "\n",
    "def on_button_clicked(b):\n",
    "  with output:\n",
    "    get_db_file()\n",
    "    show_temperatur_file_status(DB_FILENAME, AGE_DIFF_SECONDS)\n",
    "\n",
    "output = widgets.Output()\n",
    "\n",
    "display(button, output)\n",
    "button.on_click(on_button_clicked)"
   ]
  },
  {
   "cell_type": "code",
   "execution_count": 2,
   "id": "af59adeb-c90a-472a-a897-68567526aafb",
   "metadata": {},
   "outputs": [],
   "source": [
    "\n",
    "def get_df(db_filename):\n",
    "    db_file = db_filename\n",
    "    \n",
    "    if os.path.exists(os.path.join('/var/lib/grafana', db_filename)):\n",
    "        db_file = os.path.join('/var/lib/grafana', db_filename)\n",
    "    elif os.path.exists(os.path.join('.', db_filename)):\n",
    "        db_file = os.path.join('.', db_filename)    \n",
    "    else:\n",
    "        raise SystemExit('Die Datenbank ' + db_file + ' ist nicht vorhanden')\n",
    "        \n",
    "    try:\n",
    "        con = sqlite3.connect(db_file)\n",
    "        df = pd.read_sql_query(\"SELECT * from Temperaturen\", con)\n",
    "    except:\n",
    "        raise SystemExit('Die Datenbank ' + db_file + ' ist nicht vorhanden')\n",
    "    # Blanks mit np.nan ersetzen\n",
    "    return df.replace(r'^\\s*$', np.nan, regex=True)\n",
    "    \n",
    "def plot_dfplot(start, dauer, einheit):\n",
    "    # Mit Dropdown: datetime.datetime\n",
    "    # Mit DatePickier: datetime.date\n",
    "\n",
    "    #start_object = datetime.datetime.strptime(start, '%Y-%m-%d')\n",
    "    start_object = datetime.datetime(start.year, start.month, start.day)\n",
    "    \n",
    "    if einheit == 'Tage':\n",
    "        end_date = start_object + datetime.timedelta(days=dauer)\n",
    "    elif einheit == 'Stunden':\n",
    "        end_date = start_object + datetime.timedelta(hours=dauer)\n",
    "    else:\n",
    "        end_date = start_object + datetime.timedelta(days=dauer)\n",
    "    #print('Start: ' + str(start) + ' End: ' + str(end_date))\n",
    "    \n",
    "    # Hier nach Start und Enddatum filtern\n",
    "    subset = df[(df['UnixTime'] > start_object ) &  (df['UnixTime'] < end_date )]\n",
    "    #df = df['date'] + pd.DateOffset(months=plus_month_period)\n",
    "    #data.info()\n",
    "    # UnixTime \tAussenTemp \tVorlaufTemp \tRuecklaufTemp \tWohnzimmerTemp\n",
    "    subset.plot(x=\"UnixTime\", y=[\"VorlaufTemp\", \"RuecklaufTemp\", \"WohnzimmerTemp\", \"AussenTemp\"], grid=True)\n",
    "\n",
    "    \n"
   ]
  },
  {
   "cell_type": "code",
   "execution_count": 3,
   "id": "9c8dcf2c-9db8-45b6-a1f0-128fcd99a900",
   "metadata": {},
   "outputs": [
    {
     "data": {
      "application/vnd.jupyter.widget-view+json": {
       "model_id": "ebd86d92e9ba4d5091ee9576c2ea9272",
       "version_major": 2,
       "version_minor": 0
      },
      "text/plain": [
       "interactive(children=(DatePicker(value=datetime.date(2023, 10, 17), description='Beginn Zeitraum', step=1), In…"
      ]
     },
     "metadata": {},
     "output_type": "display_data"
    }
   ],
   "source": [
    "def plot_plotly(start, dauer, einheit):\n",
    "    # Mit Dropdown: datetime.datetime\n",
    "    # Mit DatePickier: datetime.date\n",
    "\n",
    "    #start_object = datetime.datetime.strptime(start, '%Y-%m-%d')\n",
    "    start_object = datetime.datetime(start.year, start.month, start.day)\n",
    "    \n",
    "    if einheit == 'Tage':\n",
    "        end_date = start_object + datetime.timedelta(days=dauer)\n",
    "    elif einheit == 'Stunden':\n",
    "        end_date = start_object + datetime.timedelta(hours=dauer)\n",
    "    else:\n",
    "        end_date = start_object + datetime.timedelta(days=dauer)\n",
    "    #print('Start: ' + str(start) + ' End: ' + str(end_date))\n",
    "    \n",
    "    # Hier nach Start und Enddatum filtern\n",
    "    subset = df[(df['UnixTime'] > start_object ) &  (df['UnixTime'] < end_date )]\n",
    "    \n",
    "    subset.set_index(['UnixTime'])\n",
    "    #df = df['date'] + pd.DateOffset(months=plus_month_period)\n",
    "    #data.info()\n",
    "    # UnixTime \tAussenTemp \tVorlaufTemp \tRuecklaufTemp \tWohnzimmerTemp\n",
    "    #subset.plot(x=\"UnixTime\", y=[\"VorlaufTemp\", \"RuecklaufTemp\", \"WohnzimmerTemp\", \"AussenTemp\"])\n",
    "    #fig = subset.plot(x='UnixTime',y='VorlaufTemp')\n",
    "    subset = subset.astype({'WohnzimmerTemp':'float64'})\n",
    "    subset = subset.astype({'AussenTemp':'float64'})    \n",
    "    fig = subset.plot(x='UnixTime',y=['VorlaufTemp', 'RuecklaufTemp', 'WohnzimmerTemp', 'AussenTemp'], title=\"Temperaturverlauf Heizung\",\n",
    "                     labels={\n",
    "                     \"UnixTime\": \"Zeit\",\n",
    "                     \"VorlaufTemp\": \"VorlaufTemperatur\",\n",
    "                     \"species\": \"Species of Iris\"\n",
    "                 },)\n",
    "    fig.update_layout(\n",
    "    xaxis_title=\"Zeit\", yaxis_title=\"Temperaturen in °C\"\n",
    ")\n",
    "    fig.show()\n",
    " \n",
    "# main\n",
    "try:    \n",
    "    df= get_df(DB_FILENAME)\n",
    "except SystemExit as _e:\n",
    "    print(_e)\n",
    "    sys.exit(-1)\n",
    "    \n",
    "df['UnixTime'] = pd.to_datetime(df['UnixTime'], unit='s')\n",
    "df.set_index(['UnixTime'])\n",
    "\n",
    "\n",
    "dates_us = df.UnixTime.dt.strftime('%Y-%m-%d').unique()\n",
    "\n",
    "\n",
    "widget_dauer = widgets.IntSlider(min=1,max=10,step=1, description=\"Dauer\", value=4)\n",
    "widget_start = widgets.Select(options=np.sort(dates_us)[::-1], rows=1,description='Startdatum:')\n",
    "widget_start_picker = widgets.DatePicker(description='Beginn Zeitraum', value = datetime.datetime.now().date() - datetime.timedelta(days=3))\n",
    "widget_einheit = widgets.Select(options=['Stunden','Tage'], rows=1, value='Tage', continous_update=True)\n",
    "widgets.interact(plot_plotly, start= widget_start_picker, dauer = widget_dauer, einheit=widget_einheit);"
   ]
  },
  {
   "cell_type": "code",
   "execution_count": null,
   "id": "1c46eefb-bfbd-4fbb-aef1-8c8076fd4289",
   "metadata": {},
   "outputs": [],
   "source": [
    " "
   ]
  }
 ],
 "metadata": {
  "kernelspec": {
   "display_name": "Python 3 (ipykernel)",
   "language": "python",
   "name": "python3"
  },
  "language_info": {
   "codemirror_mode": {
    "name": "ipython",
    "version": 3
   },
   "file_extension": ".py",
   "mimetype": "text/x-python",
   "name": "python",
   "nbconvert_exporter": "python",
   "pygments_lexer": "ipython3",
   "version": "3.11.5"
  }
 },
 "nbformat": 4,
 "nbformat_minor": 5
}
