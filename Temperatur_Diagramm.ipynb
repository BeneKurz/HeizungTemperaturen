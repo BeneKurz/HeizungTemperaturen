{
 "cells": [
  {
   "cell_type": "markdown",
   "id": "3fed5699-adcc-4021-a834-9a8bbb04bd9e",
   "metadata": {},
   "source": [
    "# Anzeige der Temperaturdaten aus der Heizung aus Temperaturen.db"
   ]
  },
  {
   "cell_type": "code",
   "execution_count": 51,
   "id": "af59adeb-c90a-472a-a897-68567526aafb",
   "metadata": {},
   "outputs": [],
   "source": [
    "import datetime\n",
    "import sqlite3\n",
    "import numpy as np\n",
    "import pandas as pd\n",
    "import os, sys\n",
    "import ipywidgets as widgets\n",
    "import matplotlib.pyplot as pl\n",
    "DB_FILENAME = 'Temperaturen.db'\n",
    "\n",
    "\n",
    "def get_df(db_filename):\n",
    "    db_file = db_filename\n",
    "    \n",
    "    if os.path.exists(os.path.join('/var/lib/grafana', db_filename)):\n",
    "        db_file = os.path.join('/var/lib/grafana', db_filename)\n",
    "    elif os.path.exists(os.path.join('.', db_filename)):\n",
    "        db_file = os.path.join('.', db_filename)    \n",
    "    else:\n",
    "        raise SystemExit('Die Datenbank ' + db_file + ' ist nicht vorhanden')\n",
    "        \n",
    "    try:\n",
    "        con = sqlite3.connect(db_file)\n",
    "        df = pd.read_sql_query(\"SELECT * from Temperaturen\", con)\n",
    "    except:\n",
    "        raise SystemExit('Die Datenbank ' + db_file + ' ist nicht vorhanden')\n",
    "    # Blanks mit np.nan ersetzen\n",
    "    return df.replace(r'^\\s*$', np.nan, regex=True)\n",
    "    \n"
   ]
  },
  {
   "cell_type": "code",
   "execution_count": 71,
   "id": "9c8dcf2c-9db8-45b6-a1f0-128fcd99a900",
   "metadata": {},
   "outputs": [
    {
     "data": {
      "application/vnd.jupyter.widget-view+json": {
       "model_id": "448f2c8a01c24937850d2b3811f92f64",
       "version_major": 2,
       "version_minor": 0
      },
      "text/plain": [
       "interactive(children=(DatePicker(value=datetime.date(2023, 10, 15), description='Beginn Zeitraum', step=1), In…"
      ]
     },
     "metadata": {},
     "output_type": "display_data"
    }
   ],
   "source": [
    "def plot_temp(start, dauer, einheit):\n",
    "    # Mit Dropdown: datetime.datetime\n",
    "    # Mit DatePickier: datetime.date\n",
    "\n",
    "    #start_object = datetime.datetime.strptime(start, '%Y-%m-%d')\n",
    "    start_object = datetime.datetime(start.year, start.month, start.day)\n",
    "    \n",
    "    if einheit == 'Tage':\n",
    "        end_date = start_object + datetime.timedelta(days=dauer)\n",
    "    elif einheit == 'Stunden':\n",
    "        end_date = start_object + datetime.timedelta(hours=dauer)\n",
    "    else:\n",
    "        end_date = start_object + datetime.timedelta(days=dauer)\n",
    "    #print('Start: ' + str(start) + ' End: ' + str(end_date))\n",
    "    \n",
    "    # Hier nach Start und Enddatum filtern\n",
    "    subset = df[(df['UnixTime'] > start_object ) &  (df['UnixTime'] < end_date )]\n",
    "    #df = df['date'] + pd.DateOffset(months=plus_month_period)\n",
    "    #data.info()\n",
    "    # UnixTime \tAussenTemp \tVorlaufTemp \tRuecklaufTemp \tWohnzimmerTemp\n",
    "    subset.plot(x=\"UnixTime\", y=[\"VorlaufTemp\", \"RuecklaufTemp\", \"WohnzimmerTemp\", \"AussenTemp\"], grid=True)\n",
    "# main\n",
    "try:    \n",
    "    df= get_df(DB_FILENAME)\n",
    "except SystemExit as _e:\n",
    "    print(_e)\n",
    "    sys.exit(-1)\n",
    "    \n",
    "df['UnixTime'] = pd.to_datetime(df['UnixTime'], unit='s')\n",
    "\n",
    "\n",
    "dates_us = df.UnixTime.dt.strftime('%Y-%m-%d').unique()\n",
    "\n",
    "\n",
    "df.set_index(['UnixTime'])\n",
    "df['Aussen'] = str(df['AussenTemp'])\n",
    "df['Wohnzimmer'] = str(df['WohnzimmerTemp'])\n",
    "\n",
    "widget_dauer = widgets.IntSlider(min=1,max=10,step=1, description=\"Dauer\", value=3)\n",
    "widget_start = widgets.Select(options=np.sort(dates_us)[::-1], rows=1,description='Startdatum:')\n",
    "widget_start_picker = widgets.DatePicker(description='Beginn Zeitraum', value = datetime.datetime.now().date() - datetime.timedelta(days=3))\n",
    "widget_einheit = widgets.Select(options=['Stunden','Tage'], rows=1, value='Tage', continous_update=True)\n",
    "widgets.interact(plot_temp, start= widget_start_picker, dauer = widget_dauer, einheit=widget_einheit);"
   ]
  },
  {
   "cell_type": "code",
   "execution_count": null,
   "id": "bf7aad14-a0d7-42c2-884e-508b8bc71d63",
   "metadata": {},
   "outputs": [],
   "source": []
  },
  {
   "cell_type": "code",
   "execution_count": null,
   "id": "1ccffd11-a39e-41de-8eb9-7e8ed35a5774",
   "metadata": {},
   "outputs": [],
   "source": []
  }
 ],
 "metadata": {
  "kernelspec": {
   "display_name": "Python 3 (ipykernel)",
   "language": "python",
   "name": "python3"
  },
  "language_info": {
   "codemirror_mode": {
    "name": "ipython",
    "version": 3
   },
   "file_extension": ".py",
   "mimetype": "text/x-python",
   "name": "python",
   "nbconvert_exporter": "python",
   "pygments_lexer": "ipython3",
   "version": "3.11.5"
  }
 },
 "nbformat": 4,
 "nbformat_minor": 5
}
